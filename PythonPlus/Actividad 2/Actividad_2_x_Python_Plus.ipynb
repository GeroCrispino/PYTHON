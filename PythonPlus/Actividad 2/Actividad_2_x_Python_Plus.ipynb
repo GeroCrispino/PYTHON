{
  "nbformat": 4,
  "nbformat_minor": 0,
  "metadata": {
    "colab": {
      "name": "Actividad 2 x Python Plus.ipynb",
      "provenance": []
    },
    "kernelspec": {
      "name": "python3",
      "display_name": "Python 3"
    },
    "language_info": {
      "name": "python"
    }
  },
  "cells": [
    {
      "cell_type": "markdown",
      "metadata": {
        "id": "qaIXj-PmiAQY"
      },
      "source": [
        "**Nombre:** Gerónimo Jesús Crispino\n",
        "# Parte 1\n",
        "## Enunciado asignado\n",
        "**Enunciado 4:** Dado el archivo de registros de jugadas (eventos) de MemPy, mostrar un gráfico con los 3 (tres) usuarios que más tiempo jugaron el juego (independientemente del resultado de la partida.\n",
        "\n"
      ]
    },
    {
      "cell_type": "code",
      "metadata": {
        "id": "tTts36o2NIVp"
      },
      "source": [
        "import pandas as pd\n",
        "from matplotlib import pyplot as plt\n",
        "\n",
        "data_set = pd.read_csv('datos de prueba.csv', encoding='utf-8')\n",
        "\n",
        "datos_inicio = data_set[(data_set['Nombre de evento'] == 'inicio_partida')]\n",
        "datos_fin = data_set[(data_set['Nombre de evento'] == 'fin')]\n",
        "lista_nom = datos_fin['Usuarie - nick'].tolist()\n",
        "\n",
        "lista_inicio = datos_inicio['Tiempo'].tolist()\n",
        "lista_fin = datos_fin['Tiempo'].tolist()\n",
        "lista_usuarios = []\n",
        "\n",
        "for i in range(len(lista_inicio)):\n",
        "    tiempo = lista_fin[i] - lista_inicio[i]\n",
        "    dic = {'usuario':{'Nombre':lista_nom[i],'Tiempo':tiempo}}\n",
        "    lista_usuarios.append(dic)\n",
        "\n",
        "lista_usuarios.sort(key = lambda u: u['usuario']['Tiempo'], reverse= True)\n",
        "\n",
        "top3_nom = []\n",
        "top3_time = []\n",
        "for i in range(3):\n",
        "    top3_nom.append(lista_usuarios[i]['usuario']['Nombre'])\n",
        "    top3_time.append(lista_usuarios[i]['usuario']['Tiempo'])\n",
        "\n",
        "df = pd.DataFrame()\n",
        "df['Nombre'] = top3_nom\n",
        "df['Tiempo'] = top3_time\n",
        "\n",
        "plt.pie(df['Tiempo'],labels= top3_nom,autopct=\"%0.1f %%\")\n",
        "plt.axis('equal')\n",
        "plt.show()"
      ],
      "execution_count": null,
      "outputs": []
    },
    {
      "cell_type": "markdown",
      "metadata": {
        "id": "mVC4dC66OjfR"
      },
      "source": [
        "# Parte 2\n",
        "\n",
        "## Criterio elegido\n",
        "\n",
        "Dataset: PES.CSV\n",
        "\n",
        "Criterio: Retorna un jugador que este libre y tenga ratio general mayor o igual a 80"
      ]
    },
    {
      "cell_type": "code",
      "metadata": {
        "id": "-dXn9EfmSAAS"
      },
      "source": [
        "import matplotlib.pyplot as plt\n",
        "import pandas as pd\n",
        "from wordcloud import WordCloud, wordcloud\n",
        "\n",
        "def palabras():\n",
        "    archivo_csv = 'PES.csv'\n",
        "    dataframe = pd.read_csv(archivo_csv,encoding='UTF-8')\n",
        "    new_df = dataframe[(dataframe['Team Name'] == 'Free Agents') & (dataframe['Overall Rating'] >= 80)]\n",
        "    return new_df['Player Name']\n",
        "\n",
        "texto = str(palabras())\n",
        "\n",
        "wordcloud = WordCloud(width = 500, height = 300,background_color='black', colormap='inferno', collocations=True).generate(texto)\n",
        "plt.figure()\n",
        "plt.imshow(wordcloud, interpolation=\"bilinear\")\n",
        "plt.axis(\"off\")\n",
        "plt.show()"
      ],
      "execution_count": null,
      "outputs": []
    }
  ]
}